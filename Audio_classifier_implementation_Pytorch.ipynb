{
  "nbformat": 4,
  "nbformat_minor": 0,
  "metadata": {
    "kernelspec": {
      "name": "python3",
      "display_name": "Python 3"
    },
    "language_info": {
      "codemirror_mode": {
        "name": "ipython",
        "version": 3
      },
      "file_extension": ".py",
      "mimetype": "text/x-python",
      "name": "python",
      "nbconvert_exporter": "python",
      "pygments_lexer": "ipython3",
      "version": "3.6.7"
    },
    "colab": {
      "name": "Audio_classifier_implementation_Pytorch.ipynb",
      "provenance": [],
      "collapsed_sections": [],
      "include_colab_link": true
    },
    "accelerator": "GPU"
  },
  "cells": [
    {
      "cell_type": "markdown",
      "metadata": {
        "id": "view-in-github",
        "colab_type": "text"
      },
      "source": [
        "<a href=\"https://colab.research.google.com/github/lkidane/Very-Deep-Convolutional-Networks-For-Raw-Waveforms-pytorch-implementation/blob/master/Audio_classifier_implementation_Pytorch.ipynb\" target=\"_parent\"><img src=\"https://colab.research.google.com/assets/colab-badge.svg\" alt=\"Open In Colab\"/></a>"
      ]
    },
    {
      "cell_type": "markdown",
      "metadata": {
        "id": "0i6Xpf1YlU1K",
        "colab_type": "text"
      },
      "source": [
        "Audio Classifier\n",
        "========================="
      ]
    },
    {
      "cell_type": "markdown",
      "metadata": {
        "id": "shkGf-0ulU1N",
        "colab_type": "text"
      },
      "source": [
        "## Important information\n",
        "\n",
        "* Choose a group name/number and rename the file with it.\n",
        "* Be sure to enter the names of every member in the group in the cell below.\n",
        "* Use the power of number and work together as a team.\n",
        "* You can employ the use of the HPC (high perfomance computer) provided your server account has been established.\n",
        "* The tutor is always available to give more explanation and assistance whenever/wherever required, but make sure you have made effort yourself.\n",
        "* Please remove all test codes.\n",
        "* The solutions to the tasks should be turn in on Friday 13th Dec, end of the day (12am). \n",
        "* A notebook submission is required per group, no multiple submissions from same group. Submit by attaching only the .ipynb file please, not zip and I don't need other files (e.g the data) I already have them."
      ]
    },
    {
      "cell_type": "markdown",
      "metadata": {
        "id": "KQ2JZvPWlU1O",
        "colab_type": "text"
      },
      "source": [
        "Group ......\n",
        "\n",
        "    Member 1\n",
        "    Member 2\n",
        "    Member 3\n",
        "    Member 4"
      ]
    },
    {
      "cell_type": "markdown",
      "metadata": {
        "id": "ocuFfvmFlU1P",
        "colab_type": "text"
      },
      "source": [
        "This task is inspired by the Audio Classifier Tutorial (found [here](https://pytorch.org/tutorials/beginner/audio_classifier_tutorial.html?highlight=audio))\n",
        "**Author**: `Winston Herring <https://github.com/winston6>`_\n",
        "\n",
        "This tutorial will show you how to correctly format an audio dataset and\n",
        "then train/test an audio classifier network on the dataset. First, let’s\n",
        "import the common torch packages as well as ``torch``, ``torchaudio``, ``pandas``,\n",
        "and ``numpy``. ``torchaudio`` is available `here <https://github.com/pytorch/audio>`_\n",
        "and can be installed by following the\n",
        "instructions on the website but I encountered a lot of trouble installing it, this ` conda install -c pytorch torchaudio-cpu ` rather worked for me."
      ]
    },
    {
      "cell_type": "markdown",
      "metadata": {
        "id": "H6ExtFe8lU1Q",
        "colab_type": "text"
      },
      "source": [
        "If you have a CUDA GPU use that. Running\n",
        "the network on a GPU will greatly decrease the training/testing runtime.\n",
        "\n",
        "\n"
      ]
    },
    {
      "cell_type": "markdown",
      "metadata": {
        "id": "kgtRNcvblU1Q",
        "colab_type": "text"
      },
      "source": [
        "1: Importing the Dataset\n",
        "---------------------\n",
        "\n",
        "We will use the UrbanSound8K dataset to train our network. It is\n",
        "available for free `here <https://urbansounddataset.weebly.com/>`_ and contains\n",
        "10 audio classes with over 8000 audio samples! Once you have downloaded\n",
        "the compressed dataset, extract it to your current working directory.\n",
        "First, we will look at the csv file that provides information about the\n",
        "individual sound files. ``pandas`` allows us to open the csv file and\n",
        "use ``.iloc()`` to access the data within it.\n",
        "\n",
        "\n"
      ]
    },
    {
      "cell_type": "markdown",
      "metadata": {
        "id": "kQwqHHgSlU1R",
        "colab_type": "text"
      },
      "source": [
        "The 10 audio classes in the UrbanSound8K dataset are air_conditioner,\n",
        "car_horn, children_playing, dog_bark, drilling, enginge_idling,\n",
        "gun_shot, jackhammer, siren, and street_music. Let’s play a couple files\n",
        "and see what they sound like. The first file is street music and the\n",
        "second is an air conditioner.\n",
        "\n",
        "\n"
      ]
    },
    {
      "cell_type": "markdown",
      "metadata": {
        "id": "rbcTYmkWlU1S",
        "colab_type": "text"
      },
      "source": [
        "2: Formatting the Data\n",
        "-------------------\n",
        "\n",
        "Now that we know the format of the csv file entries, we can construct\n",
        "our dataset. We will create a rapper class for our dataset using\n",
        "``torch.utils.data.Dataset`` that will handle loading the files and\n",
        "performing some formatting steps. The UrbanSound8K dataset is separated\n",
        "into 10 folders. We will use the data from 9 of these folders to train\n",
        "our network and then use the 10th folder to test the network. The rapper\n",
        "class will store the file names, labels, and folder numbers of the audio\n",
        "files in the inputted folder list when initialized. The actual loading\n",
        "and formatting steps will happen in the access function ``__getitem__``.\n",
        "\n",
        "In ``__getitem__``, we use ``torchaudio.load()`` to convert the wav\n",
        "files to tensors. ``torchaudio.load()`` returns a tuple containing the\n",
        "newly created tensor along with the sampling frequency of the audio file\n",
        "(44.1kHz for UrbanSound8K). The dataset uses two channels for audio so\n",
        "we will use ``torchaudio.transforms.DownmixMono()`` (not available in the latest version of `torchaudio`) to convert the audio\n",
        "data to one channel. Next, we need to format the audio data. The network\n",
        "we will make takes an input size of 32,000, while most of the audio\n",
        "files have well over 100,000 samples. The UrbanSound8K audio is sampled\n",
        "at 44.1kHz, so 32,000 samples only covers around 700 milliseconds. By\n",
        "downsampling the audio to aproximately 8kHz, we can represent 4 seconds\n",
        "with the 32,000 samples. This downsampling is achieved by taking every\n",
        "fifth sample of the original audio tensor. Not every audio tensor is\n",
        "long enough to handle the downsampling so these tensors will need to be\n",
        "padded with zeros. The minimum length that won’t require padding is\n",
        "160,000 samples.\n",
        "\n",
        "\n"
      ]
    },
    {
      "cell_type": "markdown",
      "metadata": {
        "id": "bLbwDcWvlU1T",
        "colab_type": "text"
      },
      "source": [
        "3: Define the Network\n",
        "------------------\n",
        "\n",
        "For this task we want to closely reproduce the achitectures described in https://arxiv.org/pdf/1610.00087.pdf. You task is to read extensively the paper and reproduce the achitectures <font color='green'> M3, M5, M11 and M18. The M34-res is a bonus.</font>\n",
        "While attempting to reproduce the architectures endeavour to read through the common [pitfalls](https://urbansounddataset.weebly.com/urbansound8k.html#10foldCV) to get it right."
      ]
    },
    {
      "cell_type": "markdown",
      "metadata": {
        "id": "OiatOvWblU1U",
        "colab_type": "text"
      },
      "source": [
        "We will use the same optimization technique used in the paper, an Adam\n",
        "optimizer with weight decay set to 0.0001. At first, we will train with\n",
        "a learning rate of 0.01, but we will use a ``scheduler`` to decrease it\n",
        "to 0.001 during training.\n",
        "\n",
        "\n"
      ]
    },
    {
      "cell_type": "markdown",
      "metadata": {
        "id": "VEQgkTGzlU1U",
        "colab_type": "text"
      },
      "source": [
        "4: Training and Testing the Network\n",
        "--------------------------------\n",
        "\n",
        "You can define a training function that will feed our training data into the model and perform the backward pass and optimization steps. You can also make one for testing the networks accuracy and set the model to ``eval()`` mode and then run inference on the test dataset. Calling ``eval()`` sets the training variable in all modules in the network to false. Certain layers like batch normalization and dropout layers behave differently during training so this step is crucial for getting correct results.\n",
        "\n",
        "\n"
      ]
    },
    {
      "cell_type": "markdown",
      "metadata": {
        "id": "33MUOuPxlU1V",
        "colab_type": "text"
      },
      "source": [
        "Finally, we can train and test the network. Train the network for as many epochs as time allows you. The network will be tested after each epoch to see how the accuracy varies during the training."
      ]
    },
    {
      "cell_type": "markdown",
      "metadata": {
        "id": "IT0uktQulU1W",
        "colab_type": "text"
      },
      "source": [
        "Conclusion\n",
        "----------\n",
        "\n",
        "If trained on 9 folders, the network should be about 40% accurate by the end of the training process for the least possible epochs. Training on less folders will result in a lower overall accuracy. Greater accuracies can be achieved using deeper CNNs at the expense of a larger memory footprint.\n",
        "\n",
        "For more advanced audio applications, such as speech recognition,\n",
        "recurrent neural networks (RNNs) are commonly used. There are also other\n",
        "data preprocessing methods, such as finding the mel frequency cepstral\n",
        "coefficients (MFCC), that can reduce the size of the dataset.\n",
        "\n",
        "\n"
      ]
    },
    {
      "cell_type": "markdown",
      "metadata": {
        "id": "2iQniX2QlU1W",
        "colab_type": "text"
      },
      "source": [
        "<font color='red'>GOOD NEWS</font> : Solutions to the first two section have been given to you freely. <font color='blue'>You are welcome</font>. "
      ]
    },
    {
      "cell_type": "code",
      "metadata": {
        "id": "IjzETdrTMow-",
        "colab_type": "code",
        "outputId": "08278418-ec5b-4de0-8f59-6d668823163e",
        "colab": {
          "base_uri": "https://localhost:8080/",
          "height": 343
        }
      },
      "source": [
        "!pip3 install torchaudio"
      ],
      "execution_count": 2,
      "outputs": [
        {
          "output_type": "stream",
          "text": [
            "Collecting torchaudio\n",
            "\u001b[?25l  Downloading https://files.pythonhosted.org/packages/f6/3d/7bcc3476f00d8dd8735d384230cb787d7e91ce6e1b51cef802d6bc5f4ff3/torchaudio-0.3.1-cp36-cp36m-manylinux1_x86_64.whl (2.7MB)\n",
            "\u001b[K     |████████████████████████████████| 2.7MB 2.8MB/s \n",
            "\u001b[?25hCollecting torch==1.3.0\n",
            "\u001b[?25l  Downloading https://files.pythonhosted.org/packages/ae/05/50a05de5337f7a924bb8bd70c6936230642233e424d6a9747ef1cfbde353/torch-1.3.0-cp36-cp36m-manylinux1_x86_64.whl (773.1MB)\n",
            "\u001b[K     |████████████████████████████████| 773.1MB 23kB/s \n",
            "\u001b[?25hRequirement already satisfied: numpy in /usr/local/lib/python3.6/dist-packages (from torch==1.3.0->torchaudio) (1.17.4)\n",
            "\u001b[31mERROR: torchvision 0.4.2 has requirement torch==1.3.1, but you'll have torch 1.3.0 which is incompatible.\u001b[0m\n",
            "Installing collected packages: torch, torchaudio\n",
            "  Found existing installation: torch 1.3.1\n",
            "    Uninstalling torch-1.3.1:\n",
            "      Successfully uninstalled torch-1.3.1\n",
            "Successfully installed torch-1.3.0 torchaudio-0.3.1\n"
          ],
          "name": "stdout"
        },
        {
          "output_type": "display_data",
          "data": {
            "application/vnd.colab-display-data+json": {
              "pip_warning": {
                "packages": [
                  "torch"
                ]
              }
            }
          },
          "metadata": {
            "tags": []
          }
        }
      ]
    },
    {
      "cell_type": "code",
      "metadata": {
        "id": "UjKBJSFTSD56",
        "colab_type": "code",
        "colab": {}
      },
      "source": [
        "import torch\n",
        "import torch.nn as nn\n",
        "import torch.nn.functional as F\n",
        "import torch.optim as optim\n",
        "from torchvision import datasets, transforms\n",
        "from torch.utils.data import Dataset\n",
        "import torchaudio\n",
        "import pandas as pd\n",
        "import numpy as np\n",
        "import os\n",
        "import glob\n",
        "import matplotlib.pyplot as plt"
      ],
      "execution_count": 0,
      "outputs": []
    },
    {
      "cell_type": "code",
      "metadata": {
        "id": "YUQCmpe7OWmT",
        "colab_type": "code",
        "outputId": "de3a92a9-62e3-4c3b-ef58-e0d6672a4a65",
        "colab": {
          "base_uri": "https://localhost:8080/",
          "height": 35
        }
      },
      "source": [
        "device = torch.device(\"cuda\" if torch.cuda.is_available() else \"cpu\")\n",
        "print(device)"
      ],
      "execution_count": 2,
      "outputs": [
        {
          "output_type": "stream",
          "text": [
            "cuda\n"
          ],
          "name": "stdout"
        }
      ]
    },
    {
      "cell_type": "code",
      "metadata": {
        "id": "O0sKcyRqOZV0",
        "colab_type": "code",
        "outputId": "53fb91fa-3ee3-4b32-fce9-68802f0e0711",
        "colab": {
          "base_uri": "https://localhost:8080/",
          "height": 128
        }
      },
      "source": [
        "from google.colab import drive\n",
        "drive.mount('/content/drive')"
      ],
      "execution_count": 4,
      "outputs": [
        {
          "output_type": "stream",
          "text": [
            "Go to this URL in a browser: https://accounts.google.com/o/oauth2/auth?client_id=947318989803-6bn6qk8qdgf4n4g3pfee6491hc0brc4i.apps.googleusercontent.com&redirect_uri=urn%3aietf%3awg%3aoauth%3a2.0%3aoob&response_type=code&scope=email%20https%3a%2f%2fwww.googleapis.com%2fauth%2fdocs.test%20https%3a%2f%2fwww.googleapis.com%2fauth%2fdrive%20https%3a%2f%2fwww.googleapis.com%2fauth%2fdrive.photos.readonly%20https%3a%2f%2fwww.googleapis.com%2fauth%2fpeopleapi.readonly\n",
            "\n",
            "Enter your authorization code:\n",
            "··········\n",
            "Mounted at /content/drive\n"
          ],
          "name": "stdout"
        }
      ]
    },
    {
      "cell_type": "code",
      "metadata": {
        "id": "iKHudwHkOcs0",
        "colab_type": "code",
        "colab": {}
      },
      "source": [
        ""
      ],
      "execution_count": 0,
      "outputs": []
    },
    {
      "cell_type": "code",
      "metadata": {
        "id": "Mc1qUE8GlU1a",
        "colab_type": "code",
        "colab": {}
      },
      "source": [
        ""
      ],
      "execution_count": 0,
      "outputs": []
    },
    {
      "cell_type": "code",
      "metadata": {
        "id": "5Sl11zW4lU1c",
        "colab_type": "code",
        "colab": {}
      },
      "source": [
        "class AudioDataset(Dataset):\n",
        "   \n",
        "\n",
        "    def __init__(self, file_path, audio_paths, folds):\n",
        "        \"\"\"\n",
        "        Args:\n",
        "            file_path(string): path to the audio csv file\n",
        "            root_dir(string): directory with all the audio folds\n",
        "            folds: integer corresponding to audio fold number or list of fold number if more than one fold is needed\n",
        "        \"\"\"\n",
        "        csvData = pd.read_csv(file_path)\n",
        "        #initialize lists to hold file names, labels, and folder numbers\n",
        "        self.file_names = []\n",
        "        self.labels = []\n",
        "        self.folders = []\n",
        "        #loop through the csv entries and only add entries from folders in the folder list\n",
        "        for i in range(0,len(csvData)):\n",
        "            if csvData.iloc[i, 5] in folds:\n",
        "                self.file_names.append(csvData.iloc[i, 0])\n",
        "                self.labels.append(csvData.iloc[i, 6])\n",
        "                self.folders.append(csvData.iloc[i, 5])\n",
        "                \n",
        "        self.audio_paths = audio_paths\n",
        "        #self.mixer = torchaudio.transforms.DownmixMono() #UrbanSound8K uses two channels, this will convert them to one\n",
        "        self.folds = folds\n",
        "    \n",
        "\n",
        "    def __len__(self):\n",
        "        return len(self.audio_paths)\n",
        "\n",
        "    def __getitem__(self, idx):\n",
        "        \n",
        "        audio_path = self.audio_paths + \"/\" + \"fold\" + str(self.folders[idx]) + \"/\" + self.file_names[idx]\n",
        "        #audio_path = self.audio_paths[index]\n",
        "        audio, rate = torchaudio.load(audio_path, normalization=True)\n",
        "        audio = audio.mean(0, keepdim=True)\n",
        "        c, n = audio.shape\n",
        "        zero_need = 160000 - n\n",
        "        audio_new = F.pad(audio, (zero_need //2, zero_need //2), 'constant', 0)\n",
        "        audio_new = audio_new[:,::5]\n",
        "        \n",
        "        #Getting the corresponding label\n",
        "        audio_name = audio_path.split(sep='/')[-1]\n",
        "        #labels = self.audio_file.loc[self.audio_file.slice_file_name == audio_name].iloc[0,-2]\n",
        "        \n",
        "        return audio_new, self.labels[idx]\n",
        "      \n",
        "    def __len__(self):\n",
        "        return len(self.file_names)\n",
        "\n",
        "    \n"
      ],
      "execution_count": 0,
      "outputs": []
    },
    {
      "cell_type": "code",
      "metadata": {
        "id": "zm4277a-lU1e",
        "colab_type": "code",
        "colab": {}
      },
      "source": [
        ""
      ],
      "execution_count": 0,
      "outputs": []
    },
    {
      "cell_type": "code",
      "metadata": {
        "id": "P9h7kCdflU1f",
        "colab_type": "code",
        "colab": {}
      },
      "source": [
        ""
      ],
      "execution_count": 0,
      "outputs": []
    },
    {
      "cell_type": "code",
      "metadata": {
        "id": "e73cAtDXOQlW",
        "colab_type": "code",
        "colab": {}
      },
      "source": [
        "class M3(nn.Module):\n",
        "    def __init__(self):\n",
        "        super(M3, self).__init__()\n",
        "        self.conv1 = nn.Conv1d(1, 256, 80, 4, padding=38)\n",
        "        self.bn1 = nn.BatchNorm1d(256)\n",
        "        self.pool1 = nn.MaxPool1d(4)\n",
        "        self.conv2 = nn.Conv1d(256, 256, 3, padding=1)\n",
        "        self.bn2 = nn.BatchNorm1d(256)\n",
        "        self.pool2 = nn.MaxPool1d(4)\n",
        "        self.conv3 = nn.Conv1d(256, 10, 3, padding=1)\n",
        "        self.avgPool = nn.AvgPool1d(500) #input should be 512x30 so this outputs a 512x1\n",
        "\n",
        "        \n",
        "    def forward(self, x):\n",
        "        x = self.conv1(x)\n",
        "        \n",
        "        x = F.relu(self.bn1(x))\n",
        "        x = self.pool1(x)\n",
        "        \n",
        "        x = self.conv2(x)\n",
        "        x = F.relu(self.bn2(x))\n",
        "        x = self.pool2(x)\n",
        "        x = self.conv3(x)\n",
        "        \n",
        "        x = self.avgPool(x)\n",
        "        x = x.view(-1, 10)\n",
        "        \n",
        "        return x\n",
        "\n",
        "# model = M3()\n",
        "# audio = torch.zeros(1,32000)\n",
        "# print(model(audio.unsqueeze(0)).shape)\n"
      ],
      "execution_count": 0,
      "outputs": []
    },
    {
      "cell_type": "code",
      "metadata": {
        "id": "Z195G1NyOrLC",
        "colab_type": "code",
        "colab": {}
      },
      "source": [
        "class M5(nn.Module):\n",
        "    def __init__(self):\n",
        "        super(M5, self).__init__()\n",
        "        self.conv1 = nn.Conv1d(1, 128, 80, 4, padding=38)\n",
        "        self.bn1 = nn.BatchNorm1d(128)\n",
        "        self.pool1 = nn.MaxPool1d(4)\n",
        "        self.conv2 = nn.Conv1d(128, 128, 3, padding=1)\n",
        "        self.bn2 = nn.BatchNorm1d(128)\n",
        "        self.pool2 = nn.MaxPool1d(4)\n",
        "        self.conv3 = nn.Conv1d(128, 256, 3, padding=1)\n",
        "        self.bn3 = nn.BatchNorm1d(256)\n",
        "        self.pool3 = nn.MaxPool1d(4)\n",
        "        self.conv4 = nn.Conv1d(256, 512, 3, padding=1)\n",
        "        self.bn4 = nn.BatchNorm1d(512)\n",
        "        self.pool4 = nn.MaxPool1d(4)\n",
        "        self.conv5 = nn.Conv1d(512, 10, 3, padding=1)\n",
        "        self.avgPool = nn.AvgPool1d(31)\n",
        "        \n",
        "        \n",
        "    def forward(self, x):\n",
        "        x = self.conv1(x)\n",
        "        x = F.relu(self.bn1(x))\n",
        "        x = self.pool1(x)\n",
        "        x = self.conv2(x)\n",
        "        x = F.relu(self.bn2(x))\n",
        "        x = self.pool2(x)\n",
        "        x = self.conv3(x)\n",
        "        x = F.relu(self.bn3(x))\n",
        "        x = self.pool3(x)\n",
        "        x = self.conv4(x)\n",
        "        x = F.relu(self.bn4(x))\n",
        "        x = self.pool4(x)\n",
        "        x = self.conv5(x)\n",
        "        x = self.avgPool(x)\n",
        "        x = x.view(-1, 10)\n",
        "        return x\n",
        "\n",
        "# model = M5()\n",
        "# audio = torch.zeros(1,32000)\n",
        "# print(model(audio.unsqueeze(0)).shape)"
      ],
      "execution_count": 0,
      "outputs": []
    },
    {
      "cell_type": "code",
      "metadata": {
        "id": "rVP9JxnXO2dE",
        "colab_type": "code",
        "colab": {}
      },
      "source": [
        "def m_block(input_channels, output_channels, num_layers):\n",
        "  \n",
        "  first_layer =  [\n",
        "          nn.Conv1d(input_channels, output_channels, 3, padding=1),\n",
        "          nn.BatchNorm1d(output_channels),\n",
        "          nn.ReLU(),\n",
        "        ] \n",
        "  other_layers = [\n",
        "          nn.Conv1d(output_channels, output_channels, 3, padding=1),\n",
        "          nn.BatchNorm1d(output_channels),\n",
        "          nn.ReLU(),\n",
        "       ] * (num_layers-1) \n",
        "  max_pool_layer = [ nn.MaxPool1d(4)]\n",
        "\n",
        "  all_layers = first_layer + other_layers + max_pool_layer\n",
        "\n",
        "  block = nn.Sequential(*all_layers)\n",
        "  return block\n",
        "class M11(nn.Module):\n",
        "    def __init__(self):\n",
        "        super(M11, self).__init__()\n",
        "        self.conv1 = nn.Conv1d(1, 64, 80, 4,padding=38)\n",
        "         \n",
        "        self.bn1 = nn.BatchNorm1d(64)\n",
        "\n",
        "        self.pool1 = nn.MaxPool1d(4)\n",
        "\n",
        "        self.block_1 = m_block(64, 64, 2)\n",
        "\n",
        "\n",
        "        self.block_2 = m_block(64, 128, 2)\n",
        "\n",
        "\n",
        "        self.block_3 = m_block(128, 256, 3)\n",
        "\n",
        "\n",
        "\n",
        "        self.block_4 = m_block(256, 512, 2)\n",
        "\n",
        "        self.conv2 = nn.Conv1d(512, 10, 3, padding=1)\n",
        "        self.avgPool = nn.AvgPool1d(7) #input should be 512x30 so this outputs a 512x1\n",
        "        \n",
        "        \n",
        "    def forward(self, x):\n",
        "       \n",
        "        x = self.conv1(x)\n",
        "        x = F.relu(self.bn1(x))\n",
        "        x = self.pool1(x)\n",
        "        x = self.block_1(x)\n",
        "        x = self.block_2(x)\n",
        "        x = self.block_3(x)\n",
        "        x = self.block_4(x)\n",
        "        x = self.conv2(x)\n",
        "        x = self.avgPool(x)\n",
        "        x = x.view(-1, 10)\n",
        "        return x\n",
        "\n",
        "\n",
        "# model = M11()\n",
        "# audio = torch.zeros(1,32000)\n",
        "# print(model(audio.unsqueeze(0)).shape)"
      ],
      "execution_count": 0,
      "outputs": []
    },
    {
      "cell_type": "code",
      "metadata": {
        "id": "AKjeaPLdE0DC",
        "colab_type": "code",
        "colab": {}
      },
      "source": [
        "\n",
        "class M18(nn.Module):\n",
        "    def __init__(self):\n",
        "        super(M18, self).__init__()\n",
        "        self.conv1 = nn.Conv1d(1, 64, 80, 4,padding=38)\n",
        "         \n",
        "        self.bn1 = nn.BatchNorm1d(64)\n",
        "\n",
        "        self.pool1 = nn.MaxPool1d(4)\n",
        "\n",
        "        self.block_1 = m_block(64, 64, 4)\n",
        "\n",
        "        self.block_2 = m_block(64, 128, 4)\n",
        "\n",
        "        self.block_3 = m_block(128, 256, 4)\n",
        "\n",
        "        self.block_4 = m11_block(256, 512, 4)\n",
        "\n",
        "        self.conv2 = nn.Conv1d(512, 10, 3, padding=1)\n",
        "        self.avgPool = nn.AvgPool1d(7) #input should be 512x30 so this outputs a 512x1\n",
        "        \n",
        "        \n",
        "    def forward(self, x):\n",
        "       \n",
        "        x = self.conv1(x)\n",
        "        x = F.relu(self.bn1(x))\n",
        "        x = self.pool1(x)\n",
        "        x = self.block_1(x)\n",
        "        x = self.block_2(x)\n",
        "        x = self.block_3(x)\n",
        "        x = self.block_4(x)\n",
        "        x = self.conv2(x)\n",
        "        x = self.avgPool(x)\n",
        "        x = x.view(-1, 10)\n",
        "        return x\n",
        "\n",
        "\n",
        "# model = M18()\n",
        "# audio = torch.zeros(1,32000)\n",
        "# print(model(audio.unsqueeze(0)).shape)"
      ],
      "execution_count": 0,
      "outputs": []
    },
    {
      "cell_type": "code",
      "metadata": {
        "id": "6tmFdjQbI2I9",
        "colab_type": "code",
        "colab": {}
      },
      "source": [
        "class ResUnit(nn.Module):\n",
        "  def __init__(self, input_channels, output_channels):\n",
        "    super(ResUnit, self).__init__()\n",
        "    self.conv1 = nn.Conv1d(input_channels, output_channels, 3, padding=1)\n",
        "    self.bn1 = nn.BatchNorm1d(num_features=output_channels)\n",
        "    self.conv2 = nn.Conv1d(output_channels, output_channels, 3, padding=1)\n",
        "    self.bn2 = nn.BatchNorm1d(num_features=output_channels)\n",
        "  def forward(self, x):\n",
        "    x = self.bn1(self.conv1(x))\n",
        "    x = F.relu(x)\n",
        "\n",
        "    x = self.bn2(self.conv2(x))\n",
        "    x = F.relu(x)\n",
        "\n",
        "    return x\n",
        "    \n",
        "\n",
        "\n",
        "class ResBlock(nn.Module):\n",
        "  def __init__(self, input_channels, output_channels, num_layers, is_pool=True):\n",
        "    super(ResBlock, self).__init__()\n",
        "    self.input_channels = input_channels\n",
        "    self.output_channels = output_channels\n",
        "    self.num_layers = num_layers\n",
        "    self.pool =  nn.MaxPool1d(4)\n",
        "    self.is_pool = is_pool\n",
        "    \n",
        "  def forward(self, x):\n",
        "    for i in range(self.num_layers):\n",
        "      conv = nn.Conv1d(x.shape[1], self.output_channels, 1)\n",
        "      res = conv(x) \n",
        "      if i==0:\n",
        "        unit = ResUnit(self.input_channels, self.output_channels)\n",
        "      else:\n",
        "        unit = ResUnit(self.output_channels, self.output_channels)\n",
        "      x = unit(x)\n",
        "      x = res + x\n",
        "    if self.is_pool:\n",
        "      x = self.pool(x)\n",
        "    return x\n",
        "\n",
        "\n",
        "    \n",
        "class M34Res(nn.Module):\n",
        "    def __init__(self):\n",
        "        super(M34Res, self).__init__()\n",
        "        self.conv1 = nn.Conv1d(1, 48, 80, 4,padding=38)\n",
        "        self.bn1 = nn.BatchNorm1d(48)\n",
        "        self.pool1 = nn.MaxPool1d(4)\n",
        "  \n",
        "\n",
        "        self.block_1 = ResBlock(48, 48, 3)\n",
        "\n",
        "        self.block_2 = ResBlock(48, 96, 4)\n",
        "\n",
        "        self.block_3 = ResBlock(96, 192, 6)\n",
        "\n",
        "        self.block_4 = ResBlock(192, 384, 3, is_pool=False)\n",
        "\n",
        "        self.conv2 = nn.Conv1d(384, 10, 3, padding=1)\n",
        "        self.avgPool = nn.AvgPool1d(31) #input should be 512x30 so this outputs a 512x1\n",
        "        \n",
        "        \n",
        "    def forward(self, x):\n",
        "       \n",
        "        x = self.conv1(x)\n",
        "        x = F.relu(self.bn1(x))\n",
        "        x = self.pool1(x)\n",
        "        x = self.block_1(x)\n",
        "        x = self.block_2(x)\n",
        "        x = self.block_3(x)\n",
        "        x = self.block_4(x)\n",
        "        x = self.conv2(x)\n",
        "        x = self.avgPool(x)\n",
        "        x = x.view(-1, 10)\n",
        "        return x\n",
        "\n"
      ],
      "execution_count": 0,
      "outputs": []
    },
    {
      "cell_type": "code",
      "metadata": {
        "id": "pQD46B2jPHPk",
        "colab_type": "code",
        "colab": {}
      },
      "source": [
        "class KFoldIterable:\n",
        "  def __init__(self, batch_size=64):\n",
        "    self.file_path = '/content/drive/My Drive/UrbanSound8K/metadata/UrbanSound8K.csv'\n",
        "    self.audio_paths = '/content/drive/My Drive/UrbanSound8K/audio'\n",
        "    self.all_folders = list(range(1, 11))\n",
        "    self.current_pos = 0 \n",
        "    self.batch_size = batch_size\n",
        "    \n",
        "\n",
        "  def __iter__(self):\n",
        "    return self\n",
        "  def __next__(self): \n",
        "    if self.current_pos>=len(self.all_folders):\n",
        "      raise StopIteration\n",
        "    folder = self.all_folders[self.current_pos]\n",
        "    self.current_pos += 1\n",
        "\n",
        "    test_folders = [folder]\n",
        "    train_folders = [f for f in self.all_folders if f!= folder]\n",
        "\n",
        "    train_set = AudioDataset(self.file_path, self.audio_paths, train_folders)\n",
        "    test_set = AudioDataset(self.file_path, self.audio_paths, test_folders)\n",
        "\n",
        "    kwargs = {'num_workers': 10, 'pin_memory': True} if device == 'cuda' else {} #needed for using datasets on gpu\n",
        "\n",
        "    train_loader = torch.utils.data.DataLoader(train_set, batch_size = self.batch_size, shuffle = True, **kwargs)\n",
        "    test_loader = torch.utils.data.DataLoader(test_set, batch_size = self.batch_size, shuffle = False, **kwargs)\n",
        "    print(\"Current K-Fold is: {}\".format(folder))\n",
        "    return train_loader, test_loader, folder"
      ],
      "execution_count": 0,
      "outputs": []
    },
    {
      "cell_type": "code",
      "metadata": {
        "id": "GPJ7cLCAPClf",
        "colab_type": "code",
        "colab": {}
      },
      "source": [
        "def plot_history(train_history, test_history, model_type, fold):\n",
        "  train_losses, train_accs = train_history\n",
        "  test_losses, test_accs = test_history\n",
        "  plt.figure(figsize=(14, 8))\n",
        "  plt.subplot(121)\n",
        "  plt.title(\"Train and Test accuracies for model: {} and fold: {}\".format(model_type, fold))\n",
        "  plt.plot(train_accs, label=\"train_acc\")\n",
        "  plt.plot(test_accs, label=\"test_acc\")\n",
        "  plt.legend()\n",
        "  \n",
        "  plt.subplot(122)\n",
        "  plt.title(\"Train and Test losses for model: {} and fold: {}\".format(model_type, fold))\n",
        "  plt.plot(train_losses, label=\"train_losses\")\n",
        "  plt.plot(test_losses, label=\"test_loss\")\n",
        "  plt.legend()\n",
        "  plt.show()\n",
        "  "
      ],
      "execution_count": 0,
      "outputs": []
    },
    {
      "cell_type": "code",
      "metadata": {
        "id": "5XUKuyDYYjyY",
        "colab_type": "code",
        "colab": {}
      },
      "source": [
        "def accuracy(output, target):\n",
        "    return 100 * (output.argmax(1) == target).float().mean()# why 100?\n",
        "\n",
        "\n",
        "#Test\n",
        "def test(model, test_loader, criterion):\n",
        "    model.eval()\n",
        "    correct = 0\n",
        "    total_loss = 0\n",
        "    total_acc = 0\n",
        "    for data, target in test_loader:\n",
        "      with torch.no_grad():\n",
        "        data = data.cuda()\n",
        "        target = target.cuda()\n",
        "        output = model(data)\n",
        "        acc = accuracy(output, target)\n",
        "        loss = criterion(output, target)\n",
        "        total_loss += loss.item()\n",
        "        total_acc += acc.item()\n",
        "    return total_loss/len(test_loader), total_acc/len(test_loader)\n",
        "\n",
        "\n",
        "\n",
        "\n",
        "def train(model, num_epochs, train_loader, test_loader, criterion, optimizer, scheduler):\n",
        "  model = model.cuda()\n",
        "  train_losses = []\n",
        "  test_losses = []\n",
        "  test_accuracies = []\n",
        "  train_accuracies = []\n",
        "  for epoch in range(num_epochs):\n",
        "    total_loss = 0\n",
        "    total_accuracy = 0\n",
        "    model.train()\n",
        "    \n",
        "    for batch, (features, targets) in enumerate(train_loader):\n",
        "      features = features.cuda()\n",
        "      targets = targets.cuda()\n",
        "      outputs = model(features)\n",
        "      loss = criterion(outputs, targets)\n",
        "\n",
        "      acc = accuracy(outputs, targets)\n",
        "      total_accuracy += acc.item()\n",
        "      total_loss+= loss.item()\n",
        "      optimizer.zero_grad()\n",
        "      loss.backward()\n",
        "      optimizer.step()\n",
        "      if (batch+1)%50==0:\n",
        "        print('Train Epoch: {} batch: {} train loss: {} train accuracy: {}'.format(epoch + 1,\\\n",
        "              batch + 1, total_loss/float(batch + 1), total_accuracy/float(batch + 1)) )\n",
        "    avg_loss = total_loss/float(len(train_loader))\n",
        "    train_losses.append(avg_loss)\n",
        "    avg_acc = total_accuracy/float(len(train_loader))\n",
        "    train_accuracies.append(avg_acc)\n",
        "    test_loss, test_accuracy = test(model, test_loader, criterion)\n",
        "\n",
        "    test_losses.append(test_loss)\n",
        "    test_accuracies.append(test_accuracy)\n",
        "    print('Train Epoch: {} train loss: {:.4f} train accuracy:{:.2f}  test loss: {:.4f} test accuracy: {:.2f}'.format(epoch + 1, avg_loss, avg_acc, test_loss, test_accuracy))\n",
        "    scheduler.step()\n",
        "  return (train_losses, train_accuracies), (test_losses, test_accuracies)\n"
      ],
      "execution_count": 0,
      "outputs": []
    },
    {
      "cell_type": "code",
      "metadata": {
        "id": "aP8KSq7vPK4T",
        "colab_type": "code",
        "colab": {}
      },
      "source": [
        "\n",
        "# criterion = nn.CrossEntropyLoss()\n",
        "# for m_type in all_models:\n",
        "  \n",
        "#   for train_loader, test_loader, fold in k_fold_iter:\n",
        "#     model = m_type()\n",
        "#     optimizer = optim.Adam(model.parameters(), lr = 0.01, weight_decay = 0.0001)\n",
        "#     scheduler = optim.lr_scheduler.StepLR(optimizer, step_size = 20, gamma = 0.1)\n",
        "\n",
        "#     train_history, test_history = train(model, epochs, train_loader, test_loader, criterion, optimizer, scheduler)\n",
        "#     plot_history(train_history, test_history, m_type, fold)"
      ],
      "execution_count": 0,
      "outputs": []
    },
    {
      "cell_type": "code",
      "metadata": {
        "id": "RRlUcc4p73yE",
        "colab_type": "code",
        "colab": {}
      },
      "source": [
        "def train_model(config):\n",
        "  criterion = nn.CrossEntropyLoss()\n",
        "  epochs = config[\"num_epochs\"]\n",
        "  k_fold_iter = iter(KFoldIterable())\n",
        "  train_loader, test_loader, fold = config[\"data_loaders\"]\n",
        "  model = config[\"model\"]()\n",
        "  optimizer = optim.Adam(model.parameters(), lr = 0.01, weight_decay = 0.0001)\n",
        "  scheduler = optim.lr_scheduler.StepLR(optimizer, step_size = 20, gamma = 0.1)\n",
        "  train_history, test_history = train(model, epochs, train_loader, test_loader, criterion, optimizer, scheduler)\n",
        "  plot_history(train_history, test_history, config['model_name'], fold)\n",
        "  del model\n",
        "  del optimizer\n",
        "  del scheduler\n",
        "  "
      ],
      "execution_count": 0,
      "outputs": []
    },
    {
      "cell_type": "code",
      "metadata": {
        "id": "bPbKsOSOb609",
        "colab_type": "code",
        "colab": {}
      },
      "source": [
        "k_fold_iter = iter(KFoldIterable())"
      ],
      "execution_count": 0,
      "outputs": []
    },
    {
      "cell_type": "code",
      "metadata": {
        "id": "-ziAldTMdL9x",
        "colab_type": "code",
        "outputId": "b67f86b6-46e8-47f1-c588-3f5d426a8195",
        "colab": {
          "base_uri": "https://localhost:8080/",
          "height": 35
        }
      },
      "source": [
        "data_loaders = next(k_fold_iter)"
      ],
      "execution_count": 17,
      "outputs": [
        {
          "output_type": "stream",
          "text": [
            "Current K-Fold is: 1\n"
          ],
          "name": "stdout"
        }
      ]
    },
    {
      "cell_type": "code",
      "metadata": {
        "id": "sBkFHTaZzeqI",
        "colab_type": "code",
        "outputId": "95a71054-2751-43d4-c125-020042849599",
        "colab": {
          "base_uri": "https://localhost:8080/",
          "height": 1000
        }
      },
      "source": [
        "\n",
        "m3_config = {\n",
        "    \"model\":M3,\n",
        "    \"num_epochs\": 10,\n",
        "    \"model_name\":\"M3(0.2M)\", \n",
        "    \"data_loaders\": data_loaders\n",
        "}\n",
        "train_model(m3_config)"
      ],
      "execution_count": 18,
      "outputs": [
        {
          "output_type": "stream",
          "text": [
            "Train Epoch: 1 batch: 50 train loss: 2.480560712814331 train accuracy: 20.40625\n",
            "Train Epoch: 1 batch: 100 train loss: 2.2085374438762666 train accuracy: 25.953125\n",
            "Train Epoch: 1 train loss: 2.1389 train accuracy:27.68  test loss: 1.8977 test accuracy: 36.08\n",
            "Train Epoch: 2 batch: 50 train loss: 1.7144264769554138 train accuracy: 39.5\n",
            "Train Epoch: 2 batch: 100 train loss: 1.691133954524994 train accuracy: 40.609375\n",
            "Train Epoch: 2 train loss: 1.6876 train accuracy:40.84  test loss: 1.9774 test accuracy: 32.23\n",
            "Train Epoch: 3 batch: 50 train loss: 1.6053569507598877 train accuracy: 43.3125\n",
            "Train Epoch: 3 batch: 100 train loss: 1.592652987241745 train accuracy: 44.171875\n",
            "Train Epoch: 3 train loss: 1.5846 train accuracy:44.50  test loss: 1.7644 test accuracy: 42.24\n",
            "Train Epoch: 4 batch: 50 train loss: 1.5841037082672118 train accuracy: 45.40625\n",
            "Train Epoch: 4 batch: 100 train loss: 1.5609999322891235 train accuracy: 46.0\n",
            "Train Epoch: 4 train loss: 1.5595 train accuracy:46.11  test loss: 1.9167 test accuracy: 35.80\n",
            "Train Epoch: 5 batch: 50 train loss: 1.4927246642112733 train accuracy: 48.59375\n",
            "Train Epoch: 5 batch: 100 train loss: 1.496593623161316 train accuracy: 48.5625\n",
            "Train Epoch: 5 train loss: 1.5034 train accuracy:48.25  test loss: 1.9822 test accuracy: 39.32\n",
            "Train Epoch: 6 batch: 50 train loss: 1.4817055559158325 train accuracy: 49.21875\n",
            "Train Epoch: 6 batch: 100 train loss: 1.4863188099861144 train accuracy: 49.0\n",
            "Train Epoch: 6 train loss: 1.4823 train accuracy:49.21  test loss: 2.0540 test accuracy: 38.70\n",
            "Train Epoch: 7 batch: 50 train loss: 1.4208303928375243 train accuracy: 52.78125\n",
            "Train Epoch: 7 batch: 100 train loss: 1.424328396320343 train accuracy: 52.109375\n",
            "Train Epoch: 7 train loss: 1.4347 train accuracy:51.57  test loss: 1.9470 test accuracy: 40.83\n",
            "Train Epoch: 8 batch: 50 train loss: 1.4935677886009215 train accuracy: 49.4375\n",
            "Train Epoch: 8 batch: 100 train loss: 1.4541361832618713 train accuracy: 50.34375\n",
            "Train Epoch: 8 train loss: 1.4457 train accuracy:50.63  test loss: 1.9128 test accuracy: 41.28\n",
            "Train Epoch: 9 batch: 50 train loss: 1.4032270574569703 train accuracy: 50.40625\n",
            "Train Epoch: 9 batch: 100 train loss: 1.4036987459659576 train accuracy: 51.265625\n",
            "Train Epoch: 9 train loss: 1.4067 train accuracy:51.22  test loss: 2.0859 test accuracy: 34.02\n",
            "Train Epoch: 10 batch: 50 train loss: 1.4153563404083251 train accuracy: 52.5\n",
            "Train Epoch: 10 batch: 100 train loss: 1.4104118704795838 train accuracy: 52.234375\n",
            "Train Epoch: 10 train loss: 1.3973 train accuracy:52.66  test loss: 2.1690 test accuracy: 40.17\n"
          ],
          "name": "stdout"
        },
        {
          "output_type": "display_data",
          "data": {
            "image/png": "[encoded data removed]",
            "text/plain": [
              "<Figure size 1008x576 with 2 Axes>"
            ]
          },
          "metadata": {
            "tags": []
          }
        }
      ]
    },
    {
      "cell_type": "code",
      "metadata": {
        "id": "8e8JD7OIdlZc",
        "colab_type": "code",
        "outputId": "5aaf9d6f-0656-420e-8a2b-112b7bf1e857",
        "colab": {
          "base_uri": "https://localhost:8080/",
          "height": 35
        }
      },
      "source": [
        "data_loaders = next(k_fold_iter)"
      ],
      "execution_count": 19,
      "outputs": [
        {
          "output_type": "stream",
          "text": [
            "Current K-Fold is: 2\n"
          ],
          "name": "stdout"
        }
      ]
    },
    {
      "cell_type": "code",
      "metadata": {
        "id": "wMdrjApScF-W",
        "colab_type": "code",
        "outputId": "fc0ffcdc-eab6-4a5a-a34e-a8a01de24ef1",
        "colab": {
          "base_uri": "https://localhost:8080/",
          "height": 1000
        }
      },
      "source": [
        "m3_config = {\n",
        "    \"model\":M3,\n",
        "    \"num_epochs\": 10,\n",
        "    \"model_name\":\"M3(0.2M)\", \n",
        "    \"data_loaders\": data_loaders\n",
        "}\n",
        "train_model(m3_config)"
      ],
      "execution_count": 20,
      "outputs": [
        {
          "output_type": "stream",
          "text": [
            "Train Epoch: 1 batch: 50 train loss: 2.4163965082168577 train accuracy: 21.4375\n",
            "Train Epoch: 1 batch: 100 train loss: 2.189818621873856 train accuracy: 26.84375\n",
            "Train Epoch: 1 train loss: 2.1210 train accuracy:28.43  test loss: 1.7695 test accuracy: 31.25\n",
            "Train Epoch: 2 batch: 50 train loss: 1.7874036955833434 train accuracy: 38.21875\n",
            "Train Epoch: 2 batch: 100 train loss: 1.7409204030036927 train accuracy: 40.21875\n",
            "Train Epoch: 2 train loss: 1.7279 train accuracy:40.43  test loss: 1.9959 test accuracy: 32.56\n",
            "Train Epoch: 3 batch: 50 train loss: 1.6395489192008972 train accuracy: 42.78125\n",
            "Train Epoch: 3 batch: 100 train loss: 1.621111125946045 train accuracy: 44.984375\n",
            "Train Epoch: 3 train loss: 1.6283 train accuracy:44.24  test loss: 1.7710 test accuracy: 41.14\n",
            "Train Epoch: 4 batch: 50 train loss: 1.5752380776405335 train accuracy: 44.71875\n",
            "Train Epoch: 4 batch: 100 train loss: 1.5650683999061585 train accuracy: 45.515625\n",
            "Train Epoch: 4 train loss: 1.5609 train accuracy:45.51  test loss: 1.8439 test accuracy: 30.37\n",
            "Train Epoch: 5 batch: 50 train loss: 1.5218896174430847 train accuracy: 47.65625\n",
            "Train Epoch: 5 batch: 100 train loss: 1.5269892954826354 train accuracy: 48.140625\n",
            "Train Epoch: 5 train loss: 1.5220 train accuracy:48.31  test loss: 1.8632 test accuracy: 33.27\n",
            "Train Epoch: 6 batch: 50 train loss: 1.5036855340003967 train accuracy: 48.375\n",
            "Train Epoch: 6 batch: 100 train loss: 1.4879843044281005 train accuracy: 49.21875\n",
            "Train Epoch: 6 train loss: 1.4880 train accuracy:49.23  test loss: 1.9823 test accuracy: 34.63\n",
            "Train Epoch: 7 batch: 50 train loss: 1.439908139705658 train accuracy: 51.28125\n",
            "Train Epoch: 7 batch: 100 train loss: 1.4530434906482697 train accuracy: 50.40625\n",
            "Train Epoch: 7 train loss: 1.4562 train accuracy:50.23  test loss: 1.8169 test accuracy: 33.53\n",
            "Train Epoch: 8 batch: 50 train loss: 1.4175804924964905 train accuracy: 50.75\n",
            "Train Epoch: 8 batch: 100 train loss: 1.4355379807949067 train accuracy: 50.390625\n",
            "Train Epoch: 8 train loss: 1.4334 train accuracy:50.80  test loss: 1.8435 test accuracy: 34.22\n",
            "Train Epoch: 9 batch: 50 train loss: 1.4254538822174072 train accuracy: 51.1875\n",
            "Train Epoch: 9 batch: 100 train loss: 1.4073950624465943 train accuracy: 51.953125\n",
            "Train Epoch: 9 train loss: 1.4103 train accuracy:51.82  test loss: 1.7576 test accuracy: 42.83\n",
            "Train Epoch: 10 batch: 50 train loss: 1.3694122886657716 train accuracy: 52.375\n",
            "Train Epoch: 10 batch: 100 train loss: 1.378228851556778 train accuracy: 52.796875\n",
            "Train Epoch: 10 train loss: 1.3819 train accuracy:52.69  test loss: 2.2663 test accuracy: 33.45\n"
          ],
          "name": "stdout"
        },
        {
          "output_type": "display_data",
          "data": {
            "image/png": "[encoded data removed]",
            "text/plain": [
              "<Figure size 1008x576 with 2 Axes>"
            ]
          },
          "metadata": {
            "tags": []
          }
        }
      ]
    },
    {
      "cell_type": "code",
      "metadata": {
        "id": "S9X5Plsd82dN",
        "colab_type": "code",
        "outputId": "874f87cc-3578-4a12-dbbe-e3f1ff8156ee",
        "colab": {
          "base_uri": "https://localhost:8080/",
          "height": 35
        }
      },
      "source": [
        "data_loaders = next(k_fold_iter)"
      ],
      "execution_count": 21,
      "outputs": [
        {
          "output_type": "stream",
          "text": [
            "Current K-Fold is: 3\n"
          ],
          "name": "stdout"
        }
      ]
    },
    {
      "cell_type": "code",
      "metadata": {
        "id": "PYZ18LcdziUM",
        "colab_type": "code",
        "outputId": "74ee3150-5608-46b1-c74f-37640843d465",
        "colab": {
          "base_uri": "https://localhost:8080/",
          "height": 1000
        }
      },
      "source": [
        "m3_config = {\n",
        "    \"model\":M3,\n",
        "    \"num_epochs\": 10,\n",
        "    \"model_name\":\"M3(0.2M)\", \n",
        "    \"data_loaders\": data_loaders\n",
        "}\n",
        "train_model(m3_config)"
      ],
      "execution_count": 22,
      "outputs": [
        {
          "output_type": "stream",
          "text": [
            "Train Epoch: 1 batch: 50 train loss: 2.4060340213775633 train accuracy: 21.875\n",
            "Train Epoch: 1 batch: 100 train loss: 2.1745448076725005 train accuracy: 27.65625\n",
            "Train Epoch: 1 train loss: 2.1211 train accuracy:28.97  test loss: 1.7474 test accuracy: 37.91\n",
            "Train Epoch: 2 batch: 50 train loss: 1.7299746870994568 train accuracy: 39.0\n",
            "Train Epoch: 2 batch: 100 train loss: 1.7181987047195435 train accuracy: 40.0\n",
            "Train Epoch: 2 train loss: 1.7137 train accuracy:40.52  test loss: 2.3017 test accuracy: 36.40\n",
            "Train Epoch: 3 batch: 50 train loss: 1.5983635783195496 train accuracy: 43.25\n",
            "Train Epoch: 3 batch: 100 train loss: 1.585811241865158 train accuracy: 44.03125\n",
            "Train Epoch: 3 train loss: 1.6007 train accuracy:43.78  test loss: 2.0577 test accuracy: 40.42\n",
            "Train Epoch: 4 batch: 50 train loss: 1.5825372195243836 train accuracy: 44.5625\n",
            "Train Epoch: 4 batch: 100 train loss: 1.5657435822486878 train accuracy: 45.90625\n",
            "Train Epoch: 4 train loss: 1.5633 train accuracy:46.07  test loss: 1.8234 test accuracy: 40.36\n",
            "Train Epoch: 5 batch: 50 train loss: 1.5425191712379456 train accuracy: 45.96875\n",
            "Train Epoch: 5 batch: 100 train loss: 1.515091403722763 train accuracy: 47.65625\n",
            "Train Epoch: 5 train loss: 1.5090 train accuracy:47.53  test loss: 1.9575 test accuracy: 42.36\n",
            "Train Epoch: 6 batch: 50 train loss: 1.5061378765106201 train accuracy: 47.84375\n",
            "Train Epoch: 6 batch: 100 train loss: 1.4978349554538726 train accuracy: 48.640625\n",
            "Train Epoch: 6 train loss: 1.4982 train accuracy:48.46  test loss: 1.9936 test accuracy: 36.38\n",
            "Train Epoch: 7 batch: 50 train loss: 1.4743081498146058 train accuracy: 47.5\n",
            "Train Epoch: 7 batch: 100 train loss: 1.4689717316627502 train accuracy: 48.125\n",
            "Train Epoch: 7 train loss: 1.4590 train accuracy:48.74  test loss: 1.7903 test accuracy: 41.59\n",
            "Train Epoch: 8 batch: 50 train loss: 1.413022632598877 train accuracy: 50.96875\n",
            "Train Epoch: 8 batch: 100 train loss: 1.4263598656654357 train accuracy: 50.5625\n",
            "Train Epoch: 8 train loss: 1.4219 train accuracy:50.75  test loss: 1.8181 test accuracy: 43.36\n",
            "Train Epoch: 9 batch: 50 train loss: 1.4142225861549378 train accuracy: 51.59375\n",
            "Train Epoch: 9 batch: 100 train loss: 1.4227004909515382 train accuracy: 51.5625\n",
            "Train Epoch: 9 train loss: 1.4190 train accuracy:51.57  test loss: 1.9265 test accuracy: 42.05\n",
            "Train Epoch: 10 batch: 50 train loss: 1.340282964706421 train accuracy: 53.40625\n",
            "Train Epoch: 10 batch: 100 train loss: 1.3692069268226623 train accuracy: 53.203125\n",
            "Train Epoch: 10 train loss: 1.3686 train accuracy:53.40  test loss: 2.1815 test accuracy: 36.98\n"
          ],
          "name": "stdout"
        },
        {
          "output_type": "display_data",
          "data": {
            "image/png": "[encoded data removed]",
            "text/plain": [
              "<Figure size 1008x576 with 2 Axes>"
            ]
          },
          "metadata": {
            "tags": []
          }
        }
      ]
    },
    {
      "cell_type": "code",
      "metadata": {
        "id": "Kj3fM_PR9G2a",
        "colab_type": "code",
        "outputId": "c8ec9404-85f9-431b-dd21-106e550a453a",
        "colab": {
          "base_uri": "https://localhost:8080/",
          "height": 235
        }
      },
      "source": [
        "data_loaders = next(k_fold_iter)\n",
        "m3_config = {\n",
        "    \"model\":M3,\n",
        "    \"num_epochs\": 10,\n",
        "    \"model_name\":\"M3(0.2M)\", \n",
        "    \"data_loaders\": data_loaders\n",
        "}\n",
        "train_model(m3_config)"
      ],
      "execution_count": 0,
      "outputs": [
        {
          "output_type": "stream",
          "text": [
            "Current K-Fold is: 4\n",
            "Train Epoch: 1 batch: 50 train loss: 2.5132399082183836 train accuracy: 21.5\n",
            "Train Epoch: 1 batch: 100 train loss: 2.215230423212051 train accuracy: 27.265625\n",
            "Train Epoch: 1 train loss: 2.1452 train accuracy:28.64  test loss: 2.1638 test accuracy: 25.24\n",
            "Train Epoch: 2 batch: 50 train loss: 1.7388909673690796 train accuracy: 38.4375\n",
            "Train Epoch: 2 batch: 100 train loss: 1.7422391593456268 train accuracy: 38.265625\n",
            "Train Epoch: 2 train loss: 1.7217 train accuracy:38.81  test loss: 1.8793 test accuracy: 34.54\n",
            "Train Epoch: 3 batch: 50 train loss: 1.6234068274497986 train accuracy: 42.15625\n",
            "Train Epoch: 3 batch: 100 train loss: 1.6111943137645721 train accuracy: 43.375\n",
            "Train Epoch: 3 train loss: 1.6060 train accuracy:43.40  test loss: 1.8491 test accuracy: 37.82\n",
            "Train Epoch: 4 batch: 50 train loss: 1.5241900324821471 train accuracy: 47.3125\n",
            "Train Epoch: 4 batch: 100 train loss: 1.5377885615825653 train accuracy: 46.09375\n"
          ],
          "name": "stdout"
        }
      ]
    },
    {
      "cell_type": "code",
      "metadata": {
        "id": "dWpTkT3A9U9M",
        "colab_type": "code",
        "colab": {}
      },
      "source": [
        "data_loaders = next(k_fold_iter)\n",
        "m3_config = {\n",
        "    \"model\":M3,\n",
        "    \"num_epochs\": 10,\n",
        "    \"model_name\":\"M3(0.2M)\", \n",
        "    \"data_loaders\": data_loaders\n",
        "}\n",
        "train_model(m3_config)"
      ],
      "execution_count": 0,
      "outputs": []
    },
    {
      "cell_type": "code",
      "metadata": {
        "id": "HsLTJarz9Vwm",
        "colab_type": "code",
        "colab": {}
      },
      "source": [
        "data_loaders = next(k_fold_iter)\n",
        "m3_config = {\n",
        "    \"model\":M3,\n",
        "    \"num_epochs\": 10,\n",
        "    \"model_name\":\"M3(0.2M)\", \n",
        "    \"data_loaders\": data_loaders\n",
        "}\n",
        "train_model(m3_config)"
      ],
      "execution_count": 0,
      "outputs": []
    },
    {
      "cell_type": "code",
      "metadata": {
        "id": "k1bFY13y9Wqp",
        "colab_type": "code",
        "colab": {}
      },
      "source": [
        "data_loaders = next(k_fold_iter)\n",
        "m3_config = {\n",
        "    \"model\":M3,\n",
        "    \"num_epochs\": 10,\n",
        "    \"model_name\":\"M3(0.2M)\", \n",
        "    \"data_loaders\": data_loaders\n",
        "}\n",
        "train_model(m3_config)"
      ],
      "execution_count": 0,
      "outputs": []
    },
    {
      "cell_type": "code",
      "metadata": {
        "id": "uZ7KfkkdACf5",
        "colab_type": "code",
        "colab": {}
      },
      "source": [
        "data_loaders = next(k_fold_iter)\n",
        "m3_config = {\n",
        "    \"model\":M3,\n",
        "    \"num_epochs\": 10,\n",
        "    \"model_name\":\"M3(0.2M)\", \n",
        "    \"data_loaders\": data_loaders\n",
        "}\n",
        "train_model(m3_config)"
      ],
      "execution_count": 0,
      "outputs": []
    },
    {
      "cell_type": "code",
      "metadata": {
        "id": "2tlL-lSoADP_",
        "colab_type": "code",
        "colab": {}
      },
      "source": [
        "data_loaders = next(k_fold_iter)\n",
        "m3_config = {\n",
        "    \"model\":M3,\n",
        "    \"num_epochs\": 10,\n",
        "    \"model_name\":\"M3(0.2M)\", \n",
        "    \"data_loaders\": data_loaders\n",
        "}\n",
        "train_model(m3_config)"
      ],
      "execution_count": 0,
      "outputs": []
    },
    {
      "cell_type": "code",
      "metadata": {
        "id": "Bk42eM_YAEPk",
        "colab_type": "code",
        "colab": {}
      },
      "source": [
        "data_loaders = next(k_fold_iter)\n",
        "m3_config = {\n",
        "    \"model\":M3,\n",
        "    \"num_epochs\": 10,\n",
        "    \"model_name\":\"M3(0.2M)\", \n",
        "    \"data_loaders\": data_loaders\n",
        "}\n",
        "train_model(m3_config)"
      ],
      "execution_count": 0,
      "outputs": []
    },
    {
      "cell_type": "code",
      "metadata": {
        "id": "1UlZkHdWzr6U",
        "colab_type": "code",
        "colab": {}
      },
      "source": [
        "m11_config = {\n",
        "    \"model\":M11,\n",
        "    \"num_epochs\": 10,\n",
        "    \"model_name\":\"M11(1.8M)\"\n",
        "}\n",
        "train_model(m11_config)\n"
      ],
      "execution_count": 0,
      "outputs": []
    },
    {
      "cell_type": "code",
      "metadata": {
        "id": "j0IGzXYM_ZRI",
        "colab_type": "code",
        "colab": {}
      },
      "source": [
        "m18_config = {\n",
        "    \"model\":M18,\n",
        "    \"num_epochs\": 10,\n",
        "    \"model_name\":\"M18(3.7M)\"\n",
        "}\n",
        "train_model(m18_config)"
      ],
      "execution_count": 0,
      "outputs": []
    },
    {
      "cell_type": "code",
      "metadata": {
        "id": "aa_nZyu8_jNS",
        "colab_type": "code",
        "colab": {}
      },
      "source": [
        "m34_config = {\n",
        "    \"model\":M34Res,\n",
        "    \"num_epochs\": 10,\n",
        "    \"model_name\":\"M34-res(4M)\"\n",
        "}\n",
        "train_model(m34_config)"
      ],
      "execution_count": 0,
      "outputs": []
    },
    {
      "cell_type": "markdown",
      "metadata": {
        "id": "aneV5V0e159Z",
        "colab_type": "text"
      },
      "source": [
        "\n",
        "## TODO"
      ]
    },
    {
      "cell_type": "markdown",
      "metadata": {
        "id": "03dt_tCW1_eg",
        "colab_type": "text"
      },
      "source": [
        "* Implement Models\n",
        "  1. M3\n",
        "  2. M5\n",
        "  3. M11\n",
        "  4. M18\n",
        "  5. M34-res\n",
        "* Implement accuracy calculation\n",
        "* Implement training loop\n",
        "* Implement evaluation loop\n",
        "* Implement method to plot losses and accuracies\n",
        "* Implement kFold iterable\n",
        "* Implementing a method to save model to google drive"
      ]
    },
    {
      "cell_type": "code",
      "metadata": {
        "id": "3n_8bHFzS1Xz",
        "colab_type": "code",
        "colab": {}
      },
      "source": [
        ""
      ],
      "execution_count": 0,
      "outputs": []
    }
  ]
}